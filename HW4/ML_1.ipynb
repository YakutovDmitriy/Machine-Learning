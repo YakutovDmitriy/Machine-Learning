{
 "cells": [
  {
   "cell_type": "code",
   "execution_count": 1,
   "metadata": {
    "collapsed": true
   },
   "outputs": [],
   "source": [
    "import numpy as np\n",
    "import numpy.linalg as la\n",
    "import pandas as pd \n",
    "import matplotlib.pyplot as plt\n",
    "from matplotlib.colors import ListedColormap\n",
    "import sys\n",
    "import math\n",
    "import inspect\n",
    "import scipy as sp\n",
    "from scipy import optimize\n",
    "import scipy.stats as scstats"
   ]
  },
  {
   "cell_type": "code",
   "execution_count": 2,
   "metadata": {
    "collapsed": true
   },
   "outputs": [],
   "source": [
    "class ProgressBar:\n",
    "    __slots__ = ['description', 'overall', 'done', 'prevp', 'len', 'closed']\n",
    "    def __init__(self, description, overall):\n",
    "        self.description = description\n",
    "        self.overall = overall\n",
    "        self.done = 0\n",
    "        self.prevp = -1\n",
    "        self.len = 40\n",
    "        self.closed = False\n",
    "        self.__show()\n",
    "    def go(self):\n",
    "        self.done += 1\n",
    "        self.__show()\n",
    "    def __show(self):\n",
    "        p100 = int(round(100.0 * self.done / self.overall))\n",
    "        if p100 > self.prevp:\n",
    "            p = int(round(self.len * self.done / self.overall))\n",
    "            print(\"\\r%s: [%s%s] %d%%\" % (self.description, '#' * p, '.' * (self.len - p), p100), end='')\n",
    "            self.prevp = p100\n",
    "            if p == self.len:\n",
    "                self.close()\n",
    "    def close(self):\n",
    "        if not self.closed:\n",
    "            self.closed = True\n",
    "            print()\n"
   ]
  },
  {
   "cell_type": "code",
   "execution_count": 3,
   "metadata": {
    "collapsed": true
   },
   "outputs": [],
   "source": [
    "def InitializeDataset(name):\n",
    "    dataset = pd.read_csv(name)\n",
    "    return dataset.values\n",
    "\n",
    "Dataset = InitializeDataset('chips.txt')"
   ]
  },
  {
   "cell_type": "code",
   "execution_count": 4,
   "metadata": {
    "collapsed": true
   },
   "outputs": [],
   "source": [
    "MetricCount = 3\n",
    "TransformsCount = 6\n",
    "\n",
    "__Metrics = [lambda x, y : la.norm(x - y),\n",
    "           lambda x, y : la.norm(x - y, ord = 1),\n",
    "           lambda x, y : la.norm(x - y, ord = np.inf)]\n",
    "def QueryMetric(mInd, tInd):\n",
    "    if tInd == 0:\n",
    "        trans = lambda x, y: np.array([x, y])\n",
    "    elif tInd == 1:\n",
    "        trans = lambda x, y: np.array([x, y, x ** 2 + y ** 2])\n",
    "    elif tInd == 2:\n",
    "        trans = lambda x, y: np.array([x - y, x + y])\n",
    "    elif tInd == 3:\n",
    "        trans = lambda x, y: np.array([x, y, x ** 2, y ** 2])\n",
    "    elif tInd == 4:\n",
    "        trans = lambda x, y: np.array([3 * x + 2 * y, x])\n",
    "    elif tInd == 5:\n",
    "        trans = lambda x, y: np.array([x, y, x ** 2, y ** 2, x * y])\n",
    "        #trans = lambda x, y: np.array([math.sqrt(x ** 2 + y ** 2), math.atan2(x, y)])\n",
    "\n",
    "    def ret(x, y):\n",
    "        x = trans(x[0], x[1])\n",
    "        y = trans(y[0], y[1])\n",
    "        return __Metrics[mInd](x, y)\n",
    "    return ret\n"
   ]
  },
  {
   "cell_type": "code",
   "execution_count": 5,
   "metadata": {
    "collapsed": true
   },
   "outputs": [],
   "source": [
    "def GetKNearest(u, objects, k, Ro):\n",
    "    values = np.apply_along_axis(lambda x : Ro(u, x[:2]), 1, objects)\n",
    "    result = objects[np.argsort(values)]\n",
    "    return result[:k], result[k]"
   ]
  },
  {
   "cell_type": "code",
   "execution_count": 6,
   "metadata": {
    "collapsed": true
   },
   "outputs": [],
   "source": [
    "def calculateScore(answers, predicted, showConfusion = False):\n",
    "    #TODO: calculate a confusion matrix\n",
    "    accuracy = False\n",
    "    if (accuracy):\n",
    "        sum = 0\n",
    "        for i in range(0, predicted.shape[0]):\n",
    "            if (answers[i] == predicted[i]):\n",
    "                sum += 1\n",
    "        return sum / predicted.shape[0];\n",
    "    else:\n",
    "        TP = 0\n",
    "        FP = 0\n",
    "        TN = 0\n",
    "        FN = 0\n",
    "        for i in range(0, predicted.shape[0]):\n",
    "            if (answers[i] == 0):\n",
    "                if (predicted[i] == 0):\n",
    "                    TN += 1\n",
    "                else: FP += 1\n",
    "            if (answers[i] == 1):\n",
    "                if (predicted[i] == 0):\n",
    "                    FN += 1\n",
    "                else: TP += 1\n",
    "        if (showConfusion):\n",
    "            print (\"TP = %i \" % TP)\n",
    "            print (\"FP = %i \" % FP)\n",
    "            print (\"TN = %i \" % TN)\n",
    "            print (\"FN = %i \" % FN)\n",
    "        if (TP + FP == 0): return 0\n",
    "        if (TP + FN == 0): return 0\n",
    "        if (TP == 0): return 0\n",
    "        precision = TP / (TP + FP)\n",
    "        recall = TP / (TP + FN)\n",
    "        \n",
    "        return 2 * precision * recall / (precision + recall)\n",
    "    return 0\n",
    "    \n",
    "def calc_harmonic(a):\n",
    "    return sum(a) / len(a)\n",
    "    return len(a) / sum(1.0 / (x + 1) for x in a) - 1"
   ]
  },
  {
   "cell_type": "code",
   "execution_count": 7,
   "metadata": {
    "collapsed": true
   },
   "outputs": [],
   "source": [
    "def Partition(dataset, blockSize):\n",
    "    dataset = np.copy(dataset)\n",
    "    np.random.shuffle(dataset)\n",
    "    ret = []\n",
    "    cnt = dataset.shape[0] // blockSize\n",
    "    last = 0\n",
    "    for i in range(cnt):\n",
    "        c = (dataset.shape[0] + i) // cnt\n",
    "        ret.append(dataset[last : last + c])\n",
    "        last += c\n",
    "    ret = np.array(ret)\n",
    "    return cnt, ret\n",
    "\n",
    "    \n",
    "def KnnClassificator(trainObjects, labelSet, metricIndex, transIndex, BlockSize = 29, T = 10):\n",
    "    Ro = QueryMetric(metricIndex, transIndex)\n",
    "    def Classificator(trainObjects, labelSet, k):\n",
    "        def InnerClassificator(u):\n",
    "            kNearest, afterKNearest = GetKNearest(u, trainObjects, k, Ro)\n",
    "            labels = {label: 0 for label in labelSet}\n",
    "            for object in kNearest:\n",
    "                FiniteKernel = lambda x : 1 / x\n",
    "                labels[object[2]] +=  1 * FiniteKernel(Ro(u, object[:2]) / (Ro(u, afterKNearest[:2])))\n",
    "            return max(labels.items(), key=lambda t: t[1])[0]\n",
    "        return InnerClassificator\n",
    "    k = -1\n",
    "    prevValue = 0\n",
    "    maxK = trainObjects.shape[0] // 2;\n",
    "    pbar = ProgressBar('Choose best k', maxK)\n",
    "    bestScores = np.array([])\n",
    "    for l in range(1, maxK + 1):\n",
    "        #print(\"Try new k = %i:\" % (l), end='')\n",
    "#         curValue, allValues = 0, 0\n",
    "        scores = []\n",
    "        for t in range(0, T):\n",
    "            q, partitions = Partition(trainObjects, BlockSize)\n",
    "            for i in range(0, len(partitions)):\n",
    "                training_set = []\n",
    "                \n",
    "                for j in range(len(partitions)):\n",
    "                    if i != j:\n",
    "                        training_set.extend(partitions[j])\n",
    "                training_set = np.array(training_set)\n",
    "                classificator = Classificator(training_set, labelSet, l)\n",
    "               \n",
    "                answers = np.array([])\n",
    "                predicted = np.array([])\n",
    "                for p in partitions[i]:\n",
    "                    \n",
    "                    answers = np.append(answers, p[2])\n",
    "                    predicted = np.append(predicted, classificator(p[:2]))\n",
    "                \n",
    "                score = calculateScore(answers, predicted)\n",
    "                #print(score)\n",
    "                scores.append(score)\n",
    "#                 curValue += score\n",
    "                \n",
    "#         curValue /= T * q\n",
    "        #print(curValue)\n",
    "#         print(T * BlockSize, allValues)\n",
    "        #         print(\" score = %f\" % (curValue))\n",
    "        curValue = calc_harmonic(scores)\n",
    "        if (k == -1 or prevValue < curValue):\n",
    "            k = l\n",
    "            prevValue = curValue\n",
    "            bestScores = scores\n",
    "        pbar.go()\n",
    "    pbar.close()\n",
    "    print(\"Best k is %i with score %f\" % (k, prevValue))\n",
    "    return k, Classificator(trainObjects, labelSet, k), scores\n",
    "\n"
   ]
  },
  {
   "cell_type": "code",
   "execution_count": 8,
   "metadata": {
    "collapsed": true
   },
   "outputs": [],
   "source": [
    "# stdout = sys.stdout\n",
    "# with open(\"file.txt\", \"w\") as f:\n",
    "#     #sys.stdout = f\n",
    "#     for t in range(1, 4):\n",
    "#         for mi in range(0, MetricCount):\n",
    "#             for ti in range(0, TransformsCount):\n",
    "#                 for blockSize in range(6, 15):\n",
    "#                     print(\"with T = %i, BlockSize = %i, MetricIndex = %i, TransformIndex = %i\" % \n",
    "#                         (t, blockSize, mi, ti))\n",
    "#                     k, classificator, _ = KnnClassificator(Dataset, [0, 1], mi, ti, blockSize, t)\n",
    "#     sys.stdout = stdout"
   ]
  },
  {
   "cell_type": "code",
   "execution_count": 12,
   "metadata": {
    "scrolled": true
   },
   "outputs": [
    {
     "name": "stdout",
     "output_type": "stream",
     "text": [
      "Choose best k: [########################################] 100%\n",
      "Best k is 12 with score 0.798301\n"
     ]
    }
   ],
   "source": [
    " k, classificator, knnScores = KnnClassificator(Dataset, [0, 1], 1, 1, 10, 1)"
   ]
  },
  {
   "cell_type": "code",
   "execution_count": 12,
   "metadata": {
    "scrolled": false
   },
   "outputs": [
    {
     "name": "stdout",
     "output_type": "stream",
     "text": [
      "Apply classificator: [########################################] 100%\n"
     ]
    }
   ],
   "source": [
    "points = Dataset[:, : 2]\n",
    "classes = Dataset[:, 2]\n",
    "h = .01\n",
    "x_min, x_max = points[:, 0].min() - 0.2, points[:, 0].max() + 0.2\n",
    "y_min, y_max = points[:, 1].min() - 0.2, points[:, 1].max() + 0.2\n",
    "xx, yy = np.meshgrid(np.arange(x_min, x_max, h), np.arange(y_min, y_max, h))\n",
    "\n",
    "test = np.c_[xx.ravel(), yy.ravel()]\n",
    "\n",
    "totalCount = test.shape[0]\n",
    "\n",
    "result = np.array([])\n",
    "pbar = ProgressBar('Apply classificator', totalCount)\n",
    "for x in test:\n",
    "    result = np.append(result, classificator(x))\n",
    "    pbar.go()\n",
    "pbar.close()\n",
    "result = result.reshape(xx.shape)"
   ]
  },
  {
   "cell_type": "code",
   "execution_count": 9,
   "metadata": {
    "collapsed": true
   },
   "outputs": [],
   "source": [
    "def createSVM(data, y, K, C = 1) :\n",
    "    N = len(data)\n",
    "    hFunc = lambda i, j: y[i] * y[j] * K(data[i], data[j])\n",
    "    h = np.fromfunction(np.vectorize(hFunc), (N, N), dtype=int)\n",
    "    c = C * np.ones(N)\n",
    "    start = np.random.randn(N)\n",
    "    cons = [ {\"type\": \"ineq\", \"fun\": lambda x: c - x, \"jac\": lambda x: -np.eye(N)}\n",
    "           , {\"type\": \"ineq\", \"fun\": lambda x: x,                       \"jac\": lambda x:  np.eye(N)}\n",
    "           , {\"type\": \"eq\",   \"fun\": lambda x: np.dot(y, x),            \"jac\": lambda x: y} ]\n",
    "    opt = {\"disp\": False}\n",
    "    loss = lambda x: 0.5 * np.dot(x.T, np.dot(h, x)) - np.dot(c, x)\n",
    "    jac = lambda x: np.dot(x.T, h) - c\n",
    "    res = sp.optimize.minimize(loss, start, jac=jac, constraints=cons, method=\"SLSQP\", options=opt)\n",
    "    w = lambda x : np.dot(res.x * y, np.apply_along_axis(lambda y : K(y, x), 1 ,data))\n",
    "    \n",
    "    w0 = 0\n",
    "    count = 0\n",
    "    for i, w_i in enumerate(res.x):\n",
    "        if w_i > 0:\n",
    "            w0 += w(data[i]) - y[i]\n",
    "            count += 1\n",
    "    if (count != 0):\n",
    "        w0 /= count\n",
    "    return lambda x: np.sign(w(x) - w0) * 0.5 + 0.5\n"
   ]
  },
  {
   "cell_type": "code",
   "execution_count": 10,
   "metadata": {},
   "outputs": [
    {
     "name": "stdout",
     "output_type": "stream",
     "text": [
      "20\n",
      "New score = 0.482435\n",
      "23\n",
      "26\n",
      "New score = 0.522363\n",
      "29\n",
      "32\n",
      "New score = 0.528920\n",
      "35\n",
      "38\n",
      "41\n",
      "44\n",
      "47\n",
      "50\n",
      "score 0.528920\n"
     ]
    }
   ],
   "source": [
    "Dataset = InitializeDataset('chips.txt')\n",
    "f = lambda x : np.array([(x[0]**2 + x[1]**2) , x[0], x[1], x[0] * x[1]])\n",
    "enableCV = True\n",
    "np.random.shuffle(Dataset)\n",
    "points = Dataset[:, : 2]\n",
    "classes = Dataset[:, 2] * 2 - 1\n",
    "\n",
    "\n",
    "for i in range(0, len(points)):\n",
    "    t = points[i][0]\n",
    "    points[i][0] = points[i][0] + points[i][1]\n",
    "    points[i][1] = t - points[i][1]\n",
    "c = 50\n",
    "T = 1\n",
    "BlockSize = 10\n",
    "prevCurValue = -1\n",
    "curC = 1\n",
    "svmScores = None\n",
    "if enableCV:\n",
    "    for c in range(20, 52, 3):\n",
    "        print(c)\n",
    "        scores = []\n",
    "        for t in range(0, T):\n",
    "            q, partitions = Partition(Dataset, BlockSize)\n",
    "            for i in range(0, len(partitions)):\n",
    "                training_set = []\n",
    "\n",
    "                for j in range(len(partitions)):\n",
    "                    if i != j:\n",
    "                        training_set.extend(partitions[j])\n",
    "                training_set = np.array(training_set)\n",
    "\n",
    "#                 svm = createSVM(training_set[:, :2], training_set[:, 2] * 2 - 1,lambda x, y: np.dot(f(x), f(y)), c)\n",
    "                gaussKernel = lambda x, y: np.exp(-np.dot(x, y) / 2)\n",
    "                svm = createSVM(training_set[:, :2], training_set[:, 2] * 2 - 1, gaussKernel, c)\n",
    "\n",
    "                answers = np.array([])\n",
    "                predicted = np.array([])\n",
    "                for p in partitions[i]:\n",
    "\n",
    "                    answers = np.append(answers, p[2])\n",
    "                    predicted = np.append(predicted, svm(p[:2]))\n",
    "\n",
    "                score = calculateScore(answers, predicted)\n",
    "                #print(score)\n",
    "                scores.append(score)\n",
    "        #                 curValue += score\n",
    "\n",
    "        #         curValue /= T * q\n",
    "        #print(curValue)\n",
    "        #         print(T * BlockSize, allValues)\n",
    "        #         print(\" score = %f\" % (curValue))\n",
    "        curValue = calc_harmonic(scores)\n",
    "        if (prevCurValue < curValue):\n",
    "            prevCurValue = curValue\n",
    "            print(\"New score = %f\" % curValue)\n",
    "            curC = c\n",
    "            svmScores = scores\n",
    "\n",
    "    curValue = prevCurValue\n",
    "\n",
    "    print(\"score %f\" % curValue)\n",
    "\n",
    "\n",
    "\n"
   ]
  },
  {
   "cell_type": "code",
   "execution_count": 59,
   "metadata": {},
   "outputs": [
    {
     "name": "stdout",
     "output_type": "stream",
     "text": [
      "TP = 49 \n",
      "FP = 9 \n",
      "TN = 48 \n",
      "FN = 12 \n",
      "score 0.823529\n",
      "KNN mean score: 0.768\n",
      "SVM mean score: 0.529\n",
      "Wilcoxon = 7.857143, 3.857143\n",
      "Lens are: 11 and 11\n",
      "WilcoxonResult(statistic=8.0, pvalue=0.026157182329284684)\n"
     ]
    }
   ],
   "source": [
    "h = .01\n",
    "x_min, x_max = points[:, 0].min() - 0.2, points[:, 0].max() + 0.2\n",
    "y_min, y_max = points[:, 1].min() - 0.2, points[:, 1].max() + 0.2\n",
    "xx, yy = np.meshgrid(np.arange(x_min, x_max, h), np.arange(y_min, y_max, h))\n",
    "\n",
    "test = np.c_[xx.ravel(), yy.ravel()]\n",
    "\n",
    "totalCount = test.shape[0]\n",
    "\n",
    "# best = (-123, None, None)\n",
    "# for sigma in [1,2,5,10,20,50,100,200]:\n",
    "#     print(\"Start sigma\", sigma, file=sys.stderr)\n",
    "#     for c in [1,2,5,10,20,50,100,200,500,1000]:\n",
    "#         fGaussKernel = lambda x, y: np.exp(-np.dot(FG(x - y),  FG(x - y)) / (2 * (sigma ** 2)))\n",
    "#         svm = createSVM(points, classes, fGaussKernel, c)\n",
    "#         predicted = np.array([])\n",
    "#         for p in points:\n",
    "#             predicted = np.append(predicted, svm(p))\n",
    "#         score = calculateScore(predicted, Dataset[:, 2], False)\n",
    "#         best = max(best, (score, sigma, c))\n",
    "# best = (None, 1, 50)\n",
    "\n",
    "\n",
    "best = (None, 1, 1000)\n",
    "someKernel = lambda x, y: np.dot(f(x), f(y))\n",
    "FG = lambda x : np.array([(x[0]**2 + x[1]**2) , x[0], x[1]])\n",
    "fGaussKernel = lambda x, y: np.exp(-np.dot(FG(x - y),  FG(x - y)) / (2 * (best[1] ** 2)))\n",
    "# fGaussKernel1 = lambda x, y: np.exp(-np.dot(FG(x), FG(y)) / (2 * (best[1] ** 2)))\n",
    "multiquadricKernel = lambda x, y: np.sqrt(1 + np.dot(FG(x - y), FG(x - y)))\n",
    "plateSplineKernel = lambda x, y: np.dot(FG(x - y), FG(x - y)) * 0.5 * np.log(1e-7 + np.dot(FG(x - y), FG(x - y)))\n",
    "\n",
    "svm = createSVM(points, classes, fGaussKernel, best[2])\n",
    "# svm = createSVM(points, classes, multiquadricKernel, best[2])\n",
    "# svm = createSVM(points, classes, plateSplineKernel, best[2])\n",
    "predicted = np.array([])\n",
    "for p in points:\n",
    "    predicted = np.append(predicted, svm(p))\n",
    "print(\"score %f\" % calculateScore(predicted, Dataset[:, 2], True))\n",
    "\n",
    "print(\"KNN mean score: %.3f\" % (sum(knnScores) / len(knnScores)))\n",
    "print(\"SVM mean score: %.3f\" % (sum(svmScores) / len(svmScores)))\n",
    "\n",
    "def calcWilcoxon(knn, svm):\n",
    "    all = list(set(knn + svm))\n",
    "    all.sort()\n",
    "    val = {x : i / (len(all) - 1) for i, x in enumerate(all)}\n",
    "    return sum(val[x] for x in knn), sum(val[x] for x in svm)\n",
    "\n",
    "print(\"Wilcoxon = %f, %f\" % calcWilcoxon(knnScores, svmScores))\n",
    "\n",
    "print(\"Lens are: %d and %d\" % (len(knnScores), len(svmScores)))\n",
    "\n",
    "print(scstats.wilcoxon(knnScores, svmScores))\n",
    "\n"
   ]
  },
  {
   "cell_type": "code",
   "execution_count": 44,
   "metadata": {},
   "outputs": [
    {
     "name": "stdout",
     "output_type": "stream",
     "text": [
      "Apply classificator: [########################################] 100%\n"
     ]
    }
   ],
   "source": [
    "\n",
    "result = np.array([])\n",
    "pbar = ProgressBar('Apply classificator', totalCount)\n",
    "for x in test:\n",
    "    result = np.append(result, svm(x))\n",
    "    pbar.go()\n",
    "pbar.close()\n",
    "result = result.reshape(xx.shape)\n"
   ]
  },
  {
   "cell_type": "code",
   "execution_count": 60,
   "metadata": {},
   "outputs": [
    {
     "data": {
      "image/png": "[encoded data removed]",
      "text/plain": [
       "<matplotlib.figure.Figure at 0xbd27d90>"
      ]
     },
     "metadata": {},
     "output_type": "display_data"
    }
   ],
   "source": [
    "cmap_light = ListedColormap(['#286dff', '#ffff00'])\n",
    "# cmap_bold = ListedColormap(['#a50000', '#0c00a5'])\n",
    "cmap_bold = ListedColormap(['#000000', '#ffffff'])\n",
    "plt.figure()\n",
    "plt.rcParams[\"figure.figsize\"] = list(map(lambda x: x * 1, plt.rcParams[\"figure.figsize\"]))\n",
    "plt.pcolormesh(xx, yy, result, cmap=cmap_light)\n",
    "plt.scatter(points[:, 0], points[:, 1],  c = classes,cmap=cmap_bold,linewidths=0, s=30)\n",
    "\n",
    "\n",
    "plt.xlim(xx.min(), xx.max())\n",
    "plt.ylim(yy.min(), yy.max())\n",
    "plt.show()"
   ]
  },
  {
   "cell_type": "code",
   "execution_count": null,
   "metadata": {
    "collapsed": true
   },
   "outputs": [],
   "source": []
  },
  {
   "cell_type": "code",
   "execution_count": null,
   "metadata": {
    "collapsed": true
   },
   "outputs": [],
   "source": []
  }
 ],
 "metadata": {
  "kernelspec": {
   "display_name": "Python 3",
   "language": "python",
   "name": "python3"
  },
  "language_info": {
   "codemirror_mode": {
    "name": "ipython",
    "version": 3
   },
   "file_extension": ".py",
   "mimetype": "text/x-python",
   "name": "python",
   "nbconvert_exporter": "python",
   "pygments_lexer": "ipython3",
   "version": "3.5.2"
  }
 },
 "nbformat": 4,
 "nbformat_minor": 2
}

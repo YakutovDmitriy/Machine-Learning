{
 "cells": [
  {
   "cell_type": "code",
   "execution_count": 1,
   "metadata": {
    "collapsed": true
   },
   "outputs": [],
   "source": [
    "import numpy as np\n",
    "import numpy.linalg as la\n",
    "import pandas as pd \n",
    "import matplotlib.pyplot as plt\n",
    "from matplotlib.colors import ListedColormap\n",
    "import sys\n",
    "import math\n",
    "import inspect\n",
    "from PIL import Image"
   ]
  },
  {
   "cell_type": "code",
   "execution_count": 2,
   "metadata": {
    "collapsed": true
   },
   "outputs": [],
   "source": [
    "def arr_to_pic(a):\n",
    "    return Image.fromarray(np.uint8(a))\n",
    "\n",
    "def pic_to_arr(img):\n",
    "    return np.array(pic[:, :, 0])"
   ]
  },
  {
   "cell_type": "code",
   "execution_count": 41,
   "metadata": {},
   "outputs": [
    {
     "name": "stderr",
     "output_type": "stream",
     "text": [
      "60000 28 28 47040000\n"
     ]
    }
   ],
   "source": [
    "def bytes_from_file(filename, chunksize=8192):\n",
    "    with open(filename, 'rb') as f:\n",
    "        while True:\n",
    "            chunk = f.read(chunksize)\n",
    "            if chunk:\n",
    "                for b in chunk:\n",
    "                    yield b\n",
    "            else:\n",
    "                break\n",
    "\n",
    "def read_train_labels(filename, need_buben):\n",
    "    all_bytes = list(bytes_from_file(filename))\n",
    "    def read(idx=[0]):\n",
    "        idx[0] += 1\n",
    "        return all_bytes[idx[0] - 1]\n",
    "    def read_i32():\n",
    "        return (int(read()) << 24) + (int(read()) << 16) + (int(read()) << 8) + int(read())\n",
    "    buben = read_i32()\n",
    "    assert \"buben must be %d\" % need_buben, buben == need_buben\n",
    "    count = read_i32()\n",
    "    labels = [read() for _ in range(count)]\n",
    "    return np.array(labels)\n",
    "\n",
    "def read_train_images(filename, need_buben):\n",
    "    all_bytes = list(bytes_from_file(filename))\n",
    "    def read(idx=[0]):\n",
    "        idx[0] += 1\n",
    "        return all_bytes[idx[0] - 1]\n",
    "    def read_i32():\n",
    "        return (int(read()) << 24) + (int(read()) << 16) + (int(read()) << 8) + int(read())\n",
    "    buben = read_i32()\n",
    "    assert \"buben must be %d\" % need_buben, buben == need_buben\n",
    "    count = read_i32()\n",
    "    rows = read_i32()\n",
    "    columns = read_i32()\n",
    "    print(count, rows, columns, count * rows * columns, file=sys.stderr)\n",
    "    imgs = np.zeros((count, rows, columns))\n",
    "    for x in range(count):\n",
    "        for i in range(rows):\n",
    "            for j in range(columns):\n",
    "                imgs[x, i, j] = read() / 255\n",
    "    return imgs\n",
    "    \n",
    "labels = read_train_labels('train-labels.idx1-ubyte', 2049)\n",
    "images = read_train_images('train-images.idx3-ubyte', 2051)"
   ]
  },
  {
   "cell_type": "code",
   "execution_count": 4,
   "metadata": {
    "collapsed": true
   },
   "outputs": [],
   "source": [
    "for i in range(10):\n",
    "    arr_to_pic(images[i]).save('pics/test_pic%02d.png' % i)"
   ]
  },
  {
   "cell_type": "code",
   "execution_count": 54,
   "metadata": {
    "collapsed": true
   },
   "outputs": [],
   "source": [
    "class Node:\n",
    "    def __init__(self, func, ws):\n",
    "        self.inodes = []\n",
    "        self.onodes = []\n",
    "        self.value = None\n",
    "        self.func = func\n",
    "        self.ws = ws\n",
    "    def get(self):\n",
    "        if self.value == None:\n",
    "#             print(\"Value is None\", file=sys.stderr)\n",
    "            assert len(self.inodes) == len(self.ws)\n",
    "            gets = [n.get() for n in self.inodes]\n",
    "            arg = sum(w * x for (w, x) in zip(self.ws, gets))\n",
    "            self.value = self.func(arg)\n",
    "        return self.value\n",
    "    def clear(self):\n",
    "        self.value = None\n",
    "    def add_onode(self, onode):\n",
    "        self.onodes.append(onode)\n",
    "    def add_inode(self, inode):\n",
    "        self.inodes.append(inode)\n",
    "    def isbayes(self):\n",
    "        return False\n",
    "\n",
    "class InputNode:\n",
    "    def __init__(self, i, j):\n",
    "        self.i = i\n",
    "        self.j = j\n",
    "        self.value = None\n",
    "    def get(self, img=None):\n",
    "        if self.value == None:\n",
    "            self.value = img[self.i, self.j]\n",
    "        return self.value\n",
    "    def clear(self):\n",
    "        self.value = None\n",
    "    def add_onode(self, onode):\n",
    "        pass\n",
    "    def add_inode(self, inode):\n",
    "        pass\n",
    "    def isbayes(self):\n",
    "        return False\n",
    "\n",
    "class BayesUnit:\n",
    "    def get(*args):\n",
    "        return 1\n",
    "    def clear():\n",
    "        pass\n",
    "    def add_onode(onode):\n",
    "        pass\n",
    "    def add_inode(inode):\n",
    "        pass\n",
    "    def isbayes():\n",
    "        return True\n",
    "\n",
    "def nodepipe(inode, onode):\n",
    "    inode.add_onode(onode)\n",
    "    onode.add_inode(inode)\n",
    "    \n",
    "class Layer:\n",
    "    def __init__(self, nodes):\n",
    "        self.nodes = nodes\n",
    "    def add_node(self, node):\n",
    "        self.nodes.append(node)\n",
    "    def calc(self, *args, **kwargs):\n",
    "        f = lambda node: node.get(*args)\n",
    "        pool = kwargs['pool'] if 'pool' in kwargs.keys() else None\n",
    "        if pool != None:\n",
    "            return list(pool.map(f, self.nodes))\n",
    "        else:\n",
    "            return [f(node) for node in self.nodes]\n",
    "    def clear(self):\n",
    "        for node in self.nodes:\n",
    "            node.clear()\n",
    "    def size(self):\n",
    "        return len(self.nodes)\n",
    "\n",
    "def layerpipe(ilayer, olayer):\n",
    "    for inode in ilayer.nodes:\n",
    "        for onode in olayer.nodes:\n",
    "            nodepipe(inode, onode)"
   ]
  },
  {
   "cell_type": "code",
   "execution_count": 52,
   "metadata": {
    "collapsed": true
   },
   "outputs": [],
   "source": [
    "def identity(x):\n",
    "    return x\n",
    "\n",
    "def sigmoid(x):\n",
    "#     print(\"!!! x = %f\" % x, file=sys.stderr)\n",
    "    return 1 / (1 + np.exp(-x))\n",
    "\n",
    "def gaussian(mean, variance):\n",
    "    std = np.sqrt(variance)\n",
    "    return lambda: np.random.normal(mean, std)"
   ]
  },
  {
   "cell_type": "code",
   "execution_count": 55,
   "metadata": {
    "collapsed": true
   },
   "outputs": [],
   "source": [
    "def build_net(rows, columns, mid_size):\n",
    "    size = rows * columns\n",
    "    layers = []\n",
    "    \n",
    "    input_layer = Layer([])\n",
    "    input_layer.add_node(BayesUnit)\n",
    "    for i in range(rows):\n",
    "        for j in range(columns):\n",
    "            node = InputNode(i, j)\n",
    "            input_layer.add_node(node)\n",
    "    layers.append(input_layer)\n",
    "            \n",
    "    mid_layer = Layer([])\n",
    "    mid_layer.add_node(BayesUnit)\n",
    "    for i in range(mid_size):\n",
    "        csize = 1 + layers[-1].size()\n",
    "        node = Node(sigmoid, [0] * csize)\n",
    "        mid_layer.add_node(node)\n",
    "    layers.append(mid_layer)\n",
    "    \n",
    "    output_layer = Layer([])\n",
    "    for i in range(10):\n",
    "        csize = 1 + layers[-1].size()\n",
    "        node = Node(sigmoid, [0] * csize)\n",
    "        output_layer.add_node(node)\n",
    "    layers.append(output_layer)\n",
    "    \n",
    "    for i in range(len(layers) - 1):\n",
    "        layerpipe(layers[i], layers[i + 1])\n",
    "        \n",
    "    np.random.seed(1321)\n",
    "    for layer in layers:\n",
    "        for node in layer.nodes:\n",
    "            if isinstance(node, Node):\n",
    "                variance = 2 / (len(node.inodes) + len(node.onodes))\n",
    "                gen = gaussian(0, variance)\n",
    "                node.ws = [gen() for _ in node.inodes]\n",
    "    return layers"
   ]
  },
  {
   "cell_type": "code",
   "execution_count": 56,
   "metadata": {
    "collapsed": true
   },
   "outputs": [],
   "source": [
    "import multiprocessing.dummy\n",
    "thread_pool = multiprocessing.dummy.Pool(5)"
   ]
  },
  {
   "cell_type": "code",
   "execution_count": 57,
   "metadata": {
    "collapsed": true
   },
   "outputs": [],
   "source": [
    "def apply_net(layers, image):\n",
    "    for layer in layers:\n",
    "        layer.clear()\n",
    "    layers[0].calc(image, pool=thread_pool)\n",
    "    return np.array(layers[-1].calc(pool=thread_pool))"
   ]
  },
  {
   "cell_type": "code",
   "execution_count": 58,
   "metadata": {},
   "outputs": [],
   "source": [
    "rows, columns = images[0].shape\n",
    "layers = build_net(rows, columns, 1000)"
   ]
  },
  {
   "cell_type": "code",
   "execution_count": 59,
   "metadata": {
    "collapsed": true
   },
   "outputs": [],
   "source": [
    "def train_local(layers, img, ans, lrate=0.1):\n",
    "    cur_res = apply_net(layers, img)\n",
    "    sig1 = np.zeros(cur_res.shape)\n",
    "    for i in range(cur_res.shape[0]):\n",
    "        sig1[i] = cur_res[i] * (1 - cur_res[i])\n",
    "\n",
    "    epsM = cur_res - ans\n",
    "    epsH = np.zeros(len(layers[-2].nodes))\n",
    "    for h, pnode in enumerate(layers[-2].nodes):\n",
    "        for m, node in enumerate(layers[-1].nodes):\n",
    "            if node.isbayes():\n",
    "                continue\n",
    "            epsH[h] += epsM[m] * node.ws[h] * sig1[m]\n",
    "\n",
    "    for m, node in enumerate(layers[-1].nodes):\n",
    "        if node.isbayes():\n",
    "            continue\n",
    "        for h, pnode, in enumerate(layers[-2].nodes):\n",
    "            node.ws[h] -= lrate * epsM[m] * sig1[m] * pnode.get()\n",
    "    \n",
    "    for h, pnode in enumerate(layers[-2].nodes):\n",
    "        if pnode.isbayes():\n",
    "            continue\n",
    "        sigma = pnode.get() * (1 - pnode.get())\n",
    "        for j, jnode in enumerate(layers[-3].nodes):\n",
    "            pnode.ws[j] -= lrate * epsH[h] * jnode.get() * sigma\n",
    "    return layers\n",
    "            \n",
    "def train_net(layers, images, answers, bsize=128, iters=1, epochs=1, lrate=0.1):\n",
    "    cnt = len(images)\n",
    "    bs, anss = [], []\n",
    "    for i in range(0, cnt, bsize):\n",
    "        j = min(i + bsize, cnt)\n",
    "        bs.append(images[i : j, :])\n",
    "        anss.append(answers[i : j, :])\n",
    "    for ep in range(epochs):\n",
    "        for b, a in zip(bs, anss):\n",
    "            for it in range(iters):\n",
    "                for img, ans in zip(b, a):\n",
    "                    train_local(layers, img, ans, lrate)\n",
    "    return layers"
   ]
  },
  {
   "cell_type": "code",
   "execution_count": 60,
   "metadata": {
    "collapsed": true
   },
   "outputs": [],
   "source": [
    "answers = np.zeros((labels.shape[0], 10))\n",
    "for i in range(labels.shape[0]):\n",
    "    answers[i, labels[i]] = 1"
   ]
  },
  {
   "cell_type": "code",
   "execution_count": 68,
   "metadata": {},
   "outputs": [
    {
     "name": "stderr",
     "output_type": "stream",
     "text": [
      "!\n",
      "!\n",
      "!\n"
     ]
    },
    {
     "name": "stdout",
     "output_type": "stream",
     "text": [
      "5 : 4\n",
      "0 : 4\n",
      "4 : 4\n",
      "1 : 4\n",
      "9 : 4\n",
      "2 : 4\n",
      "1 : 4\n",
      "3 : 4\n",
      "1 : 4\n",
      "4 : 4\n"
     ]
    }
   ],
   "source": [
    "cnt = 10\n",
    "imgs, anss = images[:cnt], answers[:cnt]\n",
    "layers = train_net(layers, imgs, anss, bsize=1, iters=2, epochs=3)\n",
    "for i in range(cnt):\n",
    "    result = np.argmax(apply_net(layers, images[i]))\n",
    "    print(labels[i], ':', result)"
   ]
  },
  {
   "cell_type": "code",
   "execution_count": 15,
   "metadata": {},
   "outputs": [
    {
     "name": "stderr",
     "output_type": "stream",
     "text": [
      "1 0 4 8 1 1 9 1 9 1 4 1 1 0 1 1 0 1 0 1 0 1 8 8 0 0 2 2 0 0 1 0 1 1 0 0 4 0 0 1 1 1 9 1 1 8 0 0 3 2 1 1 0 1 8 8 1 8 8 1 0 1 8 1 4 1 2 1 0 0 1 1 1 0 0 0 0 8 1 1 0 0 0 1 1 2 2 8 0 2 0 1 8 0 1 0 1 8 0 1 \n"
     ]
    }
   ],
   "source": [
    "for i in range(100):\n",
    "    img = images[i]\n",
    "    res = apply_net(layers, img)\n",
    "    print(np.argmax(res), end=' ', file=sys.stderr)\n",
    "print(file=sys.stderr)"
   ]
  }
 ],
 "metadata": {
  "kernelspec": {
   "display_name": "Python 3",
   "language": "python",
   "name": "python3"
  },
  "language_info": {
   "codemirror_mode": {
    "name": "ipython",
    "version": 3
   },
   "file_extension": ".py",
   "mimetype": "text/x-python",
   "name": "python",
   "nbconvert_exporter": "python",
   "pygments_lexer": "ipython3",
   "version": "3.5.2"
  }
 },
 "nbformat": 4,
 "nbformat_minor": 2
}

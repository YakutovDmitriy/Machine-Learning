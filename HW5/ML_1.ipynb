{
 "cells": [
  {
   "cell_type": "code",
   "execution_count": 1,
   "metadata": {
    "collapsed": true
   },
   "outputs": [],
   "source": [
    "import numpy as np\n",
    "import numpy.linalg as la\n",
    "import pandas as pd \n",
    "import matplotlib.pyplot as plt\n",
    "from matplotlib.colors import ListedColormap\n",
    "import sys\n",
    "import math\n",
    "import inspect\n",
    "import scipy as sp\n",
    "from scipy import optimize\n",
    "import scipy.stats as scstats\n",
    "from collections import defaultdict"
   ]
  },
  {
   "cell_type": "code",
   "execution_count": 2,
   "metadata": {
    "collapsed": true
   },
   "outputs": [],
   "source": [
    "def InitializeDataset(name):\n",
    "    dataset = pd.read_csv(name, sep=';')\n",
    "    return dataset.values\n",
    "\n",
    "Dataset = InitializeDataset('non-parametric.csv')\n",
    "points = Dataset[:,1:]\n",
    "N = points.shape[0]"
   ]
  },
  {
   "cell_type": "code",
   "execution_count": 3,
   "metadata": {
    "collapsed": true
   },
   "outputs": [],
   "source": [
    "def draw(points, *results):\n",
    "    h = .1\n",
    "    x_min = min(points[:, 0].min(), min(p[:, 0].min() for p in results)) - 0.2\n",
    "    x_max = max(points[:, 0].max(), max(p[:, 0].max() for p in results)) + 0.2\n",
    "    y_min = min(points[:, 1].min(), min(p[:, 1].min() for p in results)) - 0.2\n",
    "    y_max = max(points[:, 1].max(), max(p[:, 1].max() for p in results)) + 0.2\n",
    "\n",
    "    cmap_light = ListedColormap(['#286dff', '#ffff00'])\n",
    "    cmap_bold = ListedColormap(['#000000', '#ffffff'])\n",
    "    plt.figure()\n",
    "    plt.scatter(points[:, 0], points[:, 1], c=np.zeros(points.shape[0]), cmap=cmap_bold, linewidths=0, s=30)\n",
    "\n",
    "    colors = ['r-', 'g-', 'b-', 'y-', 'm-', 'c-']\n",
    "    for i, p in enumerate(results):\n",
    "         plt.plot(p[:, 0], p[:, 1], colors[i])\n",
    "    plt.xlim(x_min, x_max)\n",
    "    plt.ylim(y_min, y_max)\n",
    "    plt.show()\n"
   ]
  },
  {
   "cell_type": "code",
   "execution_count": 4,
   "metadata": {
    "collapsed": true
   },
   "outputs": [],
   "source": [
    "def kernel_smoothing(points, kernel, width):\n",
    "    def calc_y(x):\n",
    "        coefs = [kernel((x - sp[0]) / width) / width for sp in points]\n",
    "        return sum(c * sp[1] for (c, sp) in zip(coefs, points)) / max(sum(coefs), 0.01)\n",
    "    return calc_y"
   ]
  },
  {
   "cell_type": "code",
   "execution_count": 5,
   "metadata": {
    "collapsed": true
   },
   "outputs": [],
   "source": [
    "def solve_system(a, b):\n",
    "    ac = [x[:] for x in a]\n",
    "    bc = b[:]\n",
    "    n = len(a)\n",
    "    for i in range(n - 1):\n",
    "        coef = a[i + 1][i] / a[i][i]\n",
    "        for j in range(i, min(n, i + 3)):\n",
    "            a[i + 1][j] -= coef * a[i][j]\n",
    "        b[i + 1] -= coef * b[i]\n",
    "    for i in range(n - 1, 0, -1):\n",
    "        coef = a[i - 1][i] / a[i][i]\n",
    "        for j in range(i, max(0, i - 3), -1):\n",
    "            a[i - 1][j] -= coef * a[i][j]\n",
    "        b[i - 1] -= coef * b[i]\n",
    "    for i in range(n):\n",
    "        coef = a[i][i]\n",
    "        b[i] /= coef\n",
    "        a[i][i] /= coef\n",
    "    return b\n",
    "\n",
    "def spline_solve(points, kernel, lam, count=10):\n",
    "    points = points.tolist()\n",
    "    values = defaultdict(lambda:[])\n",
    "    for p in points:\n",
    "        values[p[0]].append(p[1])\n",
    "    points = [[k, sum(values[k]) / len(values[k])] for k in values.keys()]\n",
    "    points.sort(key=lambda a: a[0])\n",
    "    points = np.array(points)\n",
    "    n = points.shape[0]\n",
    "    x = [p[0] for p in points]\n",
    "    f = [p[1] for p in points]\n",
    "    h = [max(x[i] - x[i - 1], 0.000005) if i > 0 else None for i in range(n)]\n",
    "\n",
    "    system = [[0] * n for _ in range(n)]\n",
    "    for i in range(1, n - 1):\n",
    "        system[i][i - 1] += h[i]\n",
    "        system[i][i] += 2 * h[i]\n",
    "        system[i][i] += 2 * h[i + 1]\n",
    "        system[i][i + 1] += h[i + 1]\n",
    "    system = system[1:-1]\n",
    "    for i in range(len(system)):\n",
    "        system[i] = system[i][1:-1]\n",
    "    \n",
    "    need = [0] * n\n",
    "    for i in range(1, n - 1):\n",
    "        need[i] += (f[i + 1] - f[i]) / h[i + 1]\n",
    "        need[i] -= (f[i] - f[i - 1]) / h[i]\n",
    "        need[i] *= 6\n",
    "    need = need[1:-1]\n",
    "    \n",
    "    c = [0]\n",
    "    c.extend(solve_system(system, need))\n",
    "    c.append(0)\n",
    "    d = [c[i] - c[i - 1] if i > 0 else None for i in range(n)]\n",
    "    b = [(f[i] - f[i - 1]) / h[i] + h[i] * (2 * c[i] + c[i - 1]) / 6 if i > 0 else None for i in range(n)]\n",
    "\n",
    "    def calc_y(cx):\n",
    "        if cx <= x[1]: return f[1]\n",
    "        if cx >= x[-2]: return f[-2]\n",
    "        i = 1\n",
    "        while cx >= x[i]: i += 1\n",
    "        dx = cx - x[i]\n",
    "        return f[i] + b[i] * dx + c[i] / 2 * dx ** 2 + d[i] / 6 * dx ** 3\n",
    "    def calc_y1(cx):\n",
    "        if cx <= x[1]: return f[1]\n",
    "        if cx >= x[-2]: return f[-2]\n",
    "        bi = 1\n",
    "        for i in range(1, len(x) - 1):\n",
    "            if abs(cx - x[bi]) > abs(cx - x[i]):\n",
    "                bi = i\n",
    "        dx = cx - x[bi]\n",
    "        return f[bi] + b[bi] * dx + c[bi] / 2 * dx ** 2 + d[bi] / 6 * dx ** 3\n",
    "\n",
    "    return calc_y1\n",
    "\n",
    "# spline_solve(points, None, None)"
   ]
  },
  {
   "cell_type": "code",
   "execution_count": 6,
   "metadata": {
    "collapsed": true
   },
   "outputs": [],
   "source": [
    "def spline2(points, kernel, lam):\n",
    "    points = points.tolist()\n",
    "    m = 10\n",
    "    def getYspline(x):\n",
    "        xx = points[0][0]\n",
    "        yy = points[0][1]\n",
    "        for i in range(1, len(points) - 2):\n",
    "            xA, xB, xC, xD = points[i - 1][0], points[i][0], points[i + 1][0], points[i + 2][0]\n",
    "            yA, yB, yC, yD = points[i - 1][1], points[i][1], points[i + 1][1], points[i + 2][1]\n",
    "            if not (x >= xA and x <= xD):\n",
    "                continue\n",
    "            a3 = (-xA + 3 * (xB - xC) + xD) / 6.0\n",
    "            a2 = (xA - 2 * xB + xC) / 2.0\n",
    "            a1 = (xC - xA) / 2.0\n",
    "            a0 = (xA + 4 * xB + xC) / 6.0\n",
    "            b3 = (-yA + 3 * (yB - yC) + yD) / 6.0\n",
    "            b2 = (yA - 2 * yB + yC) / 2.0\n",
    "            b1 = (yC - yA) / 2.0\n",
    "            b0 = (yA + 4 * yB + yC) / 6.0\n",
    "            for j in range(m):\n",
    "                t = (j + 1) / m\n",
    "                curX = ((a3 * t + a2) * t + a1) * t + a0\n",
    "                curY = ((b3 * t + b2) * t + b1) * t + b0\n",
    "                if (abs(curX - x) < abs(xx - x)):\n",
    "                    xx = curX\n",
    "                    yy = curY\n",
    "        return yy\n",
    "    return spline"
   ]
  },
  {
   "cell_type": "code",
   "execution_count": 7,
   "metadata": {
    "collapsed": true
   },
   "outputs": [],
   "source": [
    "def mean_square_error(a, b):\n",
    "    cnt = 0\n",
    "    res = 0\n",
    "    for (x, y) in zip(a, b):\n",
    "        cnt += 1\n",
    "        res += (x - y) ** 2\n",
    "    return np.sqrt(res / cnt)"
   ]
  },
  {
   "cell_type": "code",
   "execution_count": 8,
   "metadata": {
    "collapsed": true
   },
   "outputs": [],
   "source": [
    "kernels = []\n",
    "kernels.append(lambda x: 0.9375 * (1 - x ** 2) ** 2 if abs(x) <= 1 else 0)\n",
    "kernels.append(lambda x: 0.75 * (1 - x ** 2) if abs(x) <= 1 else 0)\n",
    "kernels.append(lambda x: np.exp(-x ** 2 / 2) / np.sqrt(2 * np.pi))\n",
    "kernel_names = ['Quadratic', 'Epanechnikov', 'Gauss']\n"
   ]
  },
  {
   "cell_type": "code",
   "execution_count": 9,
   "metadata": {
    "collapsed": true
   },
   "outputs": [],
   "source": [
    "def Partition(dataset, blockSize):\n",
    "    dataset = np.copy(dataset)\n",
    "    np.random.shuffle(dataset)\n",
    "    ret = []\n",
    "    cnt = dataset.shape[0] // blockSize\n",
    "    last = 0\n",
    "    for i in range(cnt):\n",
    "        c = (dataset.shape[0] + i) // cnt\n",
    "        ret.append(dataset[last : last + c])\n",
    "        last += c\n",
    "    ret = np.array(ret)\n",
    "    return ret\n",
    "    \n",
    "def СrossValidation(trainObjects, T, blockSize):\n",
    "    trains = []\n",
    "    for _ in range(0, T):\n",
    "        partitions = Partition(trainObjects, blockSize)\n",
    "        for i in range(0, len(partitions)):\n",
    "            training_set = []\n",
    "            for j in range(len(partitions)):\n",
    "                if i != j:\n",
    "                    training_set.extend(partitions[j])\n",
    "            training_set = np.array(training_set)\n",
    "            trains.append((training_set, partitions[i]))\n",
    "    return trains\n",
    "\n",
    "folds = СrossValidation(points, 1, int(points.shape[0] / 5))"
   ]
  },
  {
   "cell_type": "code",
   "execution_count": 10,
   "metadata": {
    "collapsed": true
   },
   "outputs": [],
   "source": [
    "def calc_width(points, kernel, method):\n",
    "    def res_for(h):\n",
    "        cur_res = 0\n",
    "        global folds\n",
    "        for train, check in folds:\n",
    "            func = method(train, kernel, h)\n",
    "            cur_res += mean_square_error([func(pt[0]) for pt in check], [pt[1] for pt in check])\n",
    "        return (cur_res, h)\n",
    "\n",
    "    best_h = res_for(0.1)\n",
    "    for h in np.arange(0.1, 5, 0.3):\n",
    "        best_h = min(best_h, res_for(h))\n",
    "    \n",
    "    return best_h[1]"
   ]
  },
  {
   "cell_type": "code",
   "execution_count": 11,
   "metadata": {},
   "outputs": [
    {
     "name": "stdout",
     "output_type": "stream",
     "text": [
      "width is 3.400000\n",
      "width is 1.600000\n",
      "width is 1.300000\n"
     ]
    }
   ],
   "source": [
    "funcs = []\n",
    "names = []\n",
    "for K, name in zip(kernels, kernel_names):\n",
    "    width = calc_width(points, K, kernel_smoothing)\n",
    "    print(\"width is %f\" % width)\n",
    "    cur = kernel_smoothing(points, K, width)\n",
    "    funcs.append(cur)\n",
    "    names.append(name)\n",
    "funcs.append(spline_solve(points, None, None))\n",
    "names.append('Spline')"
   ]
  },
  {
   "cell_type": "code",
   "execution_count": 12,
   "metadata": {},
   "outputs": [
    {
     "name": "stdout",
     "output_type": "stream",
     "text": [
      "      Quadratic error: 27.955677\n",
      "   Epanechnikov error: 25.812538\n",
      "          Gauss error: 27.586690\n",
      "         Spline error: 15.415530\n"
     ]
    }
   ],
   "source": [
    "for func, name in zip(funcs, names):\n",
    "    y = points[:,1]\n",
    "    cy = map(func, points[:,0])\n",
    "    print('%15s error: %f' % (name, mean_square_error(y, cy)))"
   ]
  },
  {
   "cell_type": "code",
   "execution_count": 13,
   "metadata": {
    "collapsed": true
   },
   "outputs": [],
   "source": [
    "def calc_error(kernel, width):\n",
    "    func = kernel_smoothing(points, kernel, width)\n",
    "    y = points[:,1]\n",
    "    cy = map(func, points[:,0])\n",
    "    return mean_square_error(y, cy)\n",
    "\n",
    "def draw_diagram(kernels, widths, names):\n",
    "    from PIL import Image, ImageDraw\n",
    "    onesize = 70\n",
    "    dx, dy = onesize, onesize\n",
    "    xsize = len(widths) * onesize + dx\n",
    "    ysize = len(kernels) * onesize + dy\n",
    "    mp = {(K, W): calc_error(K, W) for K in kernels for W in widths}\n",
    "    values = [mp[key] for key in mp.keys()]\n",
    "    values.sort()\n",
    "    image1 = Image.new(\"RGB\", (xsize, ysize), (255, 255, 255))\n",
    "    draw = ImageDraw.Draw(image1)\n",
    "    for i, W in enumerate(widths):\n",
    "        draw.text([dx + i * onesize + onesize // 2 - 5, dy // 2], '%s' % W, fill=(0, 0, 0))\n",
    "    for i, name in enumerate(names):\n",
    "        draw.text([5, dy + i * onesize + onesize // 2], name, fill=(0, 0, 0))\n",
    "    for i, K in enumerate(kernels):\n",
    "        for j, W in enumerate(widths):\n",
    "            x1, y1 = j * onesize + dx, i * onesize + dy\n",
    "            x2, y2 = x1 + onesize, y1 + onesize\n",
    "            index = len([x for x in values if x < mp[(K, W)]])\n",
    "            ic = 64 + index * 128 // len(values)\n",
    "            draw.rectangle([x1, y1, x2, y2], fill=(ic, 0, ic))\n",
    "    filename = \"diag.jpg\"\n",
    "    image1.save(filename)\n",
    "    \n",
    "draw_diagram(kernels, list(np.arange(1, 6, 0.5)), kernel_names)\n"
   ]
  },
  {
   "cell_type": "markdown",
   "metadata": {},
   "source": [
    "# Kernel-width diagram\n",
    "![Kernel-width diagram](diag.jpg)"
   ]
  },
  {
   "cell_type": "code",
   "execution_count": 14,
   "metadata": {
    "collapsed": true
   },
   "outputs": [],
   "source": [
    "xmin = points[:, 0].min()\n",
    "xmax = points[:, 0].max()\n",
    "\n",
    "new_points = [np.array([[x, func(x)] for x in np.arange(xmin, xmax, 0.1)]) for func in funcs]"
   ]
  },
  {
   "cell_type": "code",
   "execution_count": 18,
   "metadata": {
    "collapsed": true
   },
   "outputs": [],
   "source": [
    "# plt.rcParams[\"figure.figsize\"] = list(map(lambda x: x * 2, plt.rcParams[\"figure.figsize\"]))"
   ]
  },
  {
   "cell_type": "code",
   "execution_count": 19,
   "metadata": {},
   "outputs": [
    {
     "data": {
      "image/png": "[encoded data removed]",
      "text/plain": [
       "<matplotlib.figure.Figure at 0x7edc9b0>"
      ]
     },
     "metadata": {},
     "output_type": "display_data"
    }
   ],
   "source": [
    "draw(points, *new_points)"
   ]
  },
  {
   "cell_type": "code",
   "execution_count": null,
   "metadata": {
    "collapsed": true
   },
   "outputs": [],
   "source": []
  }
 ],
 "metadata": {
  "kernelspec": {
   "display_name": "Python 3",
   "language": "python",
   "name": "python3"
  },
  "language_info": {
   "codemirror_mode": {
    "name": "ipython",
    "version": 3
   },
   "file_extension": ".py",
   "mimetype": "text/x-python",
   "name": "python",
   "nbconvert_exporter": "python",
   "pygments_lexer": "ipython3",
   "version": "3.5.2"
  }
 },
 "nbformat": 4,
 "nbformat_minor": 2
}
